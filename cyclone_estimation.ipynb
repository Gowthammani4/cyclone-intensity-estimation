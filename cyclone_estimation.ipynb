{
  "cells": [
    {
      "cell_type": "code",
      "execution_count": 1,
      "metadata": {
        "id": "4n79pYthtf99"
      },
      "outputs": [],
      "source": [
        "import tensorflow as tf\n",
        "import cv2\n",
        "import matplotlib.pyplot as plt\n",
        "from PIL import Image\n",
        "import numpy as np"
      ]
    },
    {
      "cell_type": "code",
      "execution_count": 2,
      "metadata": {
        "id": "v0eM9RVnt-Vh"
      },
      "outputs": [],
      "source": [
        "model=tf.keras.models.load_model(\"Model.h5\")"
      ]
    },
    {
      "cell_type": "code",
      "execution_count": 6,
      "metadata": {
        "id": "HR53SAI6uFwQ"
      },
      "outputs": [],
      "source": [
        "image_path = \"cc.jpeg\"\n",
        "image = tf.io.read_file(image_path)\n",
        "image = tf.image.decode_image(image, channels=3)\n",
        "resized_image = tf.image.resize(image, (512, 512))\n",
        "preprocessed_image =tf.keras.applications.vgg16.preprocess_input(resized_image)\n",
        "input_data = tf.expand_dims(preprocessed_image, axis=0)"
      ]
    },
    {
      "cell_type": "code",
      "execution_count": 7,
      "metadata": {
        "colab": {
          "base_uri": "https://localhost:8080/"
        },
        "id": "EvxXLhr9wL6y",
        "outputId": "2fe93988-858b-4d0d-a189-dfaddb44847e"
      },
      "outputs": [
        {
          "name": "stdout",
          "output_type": "stream",
          "text": [
            "1/1 [==============================] - 2s 2s/step\n"
          ]
        },
        {
          "data": {
            "text/plain": [
              "array([[105.99488]], dtype=float32)"
            ]
          },
          "execution_count": 7,
          "metadata": {},
          "output_type": "execute_result"
        }
      ],
      "source": [
        "model.predict(input_data)"
      ]
    },
    {
      "cell_type": "code",
      "execution_count": null,
      "metadata": {
        "id": "kB55x80MxTBO"
      },
      "outputs": [],
      "source": []
    }
  ],
  "metadata": {
    "colab": {
      "provenance": []
    },
    "kernelspec": {
      "display_name": "Python 3",
      "name": "python3"
    },
    "language_info": {
      "name": "python"
    }
  },
  "nbformat": 4,
  "nbformat_minor": 0
}
